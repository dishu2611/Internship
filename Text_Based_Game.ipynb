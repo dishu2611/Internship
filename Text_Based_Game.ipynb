{
  "nbformat": 4,
  "nbformat_minor": 0,
  "metadata": {
    "colab": {
      "provenance": [],
      "toc_visible": true,
      "authorship_tag": "ABX9TyMDFXA8JF9GQYVcfsZ4yGzS",
      "include_colab_link": true
    },
    "kernelspec": {
      "name": "python3",
      "display_name": "Python 3"
    },
    "language_info": {
      "name": "python"
    }
  },
  "cells": [
    {
      "cell_type": "markdown",
      "metadata": {
        "id": "view-in-github",
        "colab_type": "text"
      },
      "source": [
        "<a href=\"https://colab.research.google.com/github/dishu2611/Internship/blob/main/Text_Based_Game.ipynb\" target=\"_parent\"><img src=\"https://colab.research.google.com/assets/colab-badge.svg\" alt=\"Open In Colab\"/></a>"
      ]
    },
    {
      "cell_type": "code",
      "execution_count": null,
      "metadata": {
        "colab": {
          "base_uri": "https://localhost:8080/"
        },
        "id": "lLM_FiHAniqz",
        "outputId": "03d58dd5-a5b6-4483-9bcf-7df8666699da"
      },
      "outputs": [
        {
          "output_type": "stream",
          "name": "stdout",
          "text": [
            "Welcome to the Haunted Mansion!\n",
            "You are a distant family member of a rich millionaire who has just passed way, leaving this mansion to you.\n",
            "As the newfound owner, you decide to pay a visit to the mansion.\n",
            "The house is dated, creaky, and falling apart. You walk in the front door.\n",
            "Do you want to enter the living room or the dining room?\n",
            "> dining room\n",
            "You chose to go into the dining room.\n",
            "As you walk in, you see a shiny vase on the table.\n",
            "Do you want to open the vase?\n",
            "> no\n",
            "You decide not to open the shiny vase.\n",
            "As you turn to leave, you hear a cracking sound coming from the corner.\n",
            "A dark figure with glowing red eyes launches at you, knocking you unconcious\n",
            "You wake up in your bed. It was all a dream.\n"
          ]
        }
      ],
      "source": [
        "print(\"Welcome to the Haunted Mansion!\")\n",
        "print(\"You are a distant family member of a rich millionaire who has just passed way, leaving this mansion to you.\")\n",
        "print(\"As the newfound owner, you decide to pay a visit to the mansion.\")\n",
        "print(\"The house is dated, creaky, and falling apart. You walk in the front door.\")\n",
        "print(\"Do you want to enter the living room or the dining room?\")\n",
        "\n",
        "roomChoice = input(\"> \")\n",
        "\n",
        "if(roomChoice == \"living room\"):\n",
        "  print(\"You enter the living room.\")\n",
        "  print(\"As you walk in, you see a sleeping pitbull guarding some gold jewelry.\")\n",
        "  print(\"Do you want to steal the jewelry from the pitbull?\")\n",
        "\n",
        "  pitBullChoice = input(\"> \")\n",
        "\n",
        "  if(pitBullChoice == \"yes\"):\n",
        "    print(\"You attempt to steal the jewelery, but it wakes up and rips you to shreds.\")\n",
        "    print(\"You are now dead.\")\n",
        "  elif(pitBullChoice == \"no\"):\n",
        "    print(\"You decide to not steal the dog's jewelry.\")\n",
        "    print(\"You turn around and leave the house safely.\")\n",
        "  else:\n",
        "    print(\"Invalid choice. Please enter yes or no.\")\n",
        "elif(roomChoice == \"dining room\"):\n",
        "  print(\"You chose to go into the dining room.\")\n",
        "  print(\"As you walk in, you see a shiny vase on the table.\")\n",
        "  print(\"Do you want to open the vase?\")\n",
        "\n",
        "  vaseChoice = input(\"> \")\n",
        "\n",
        "  if(vaseChoice == \"yes\"):\n",
        "    print(\"You open the vase and find a pile of bones!\")\n",
        "  elif(vaseChoice == \"no\"):\n",
        "    print(\"You decide not to open the shiny vase.\")\n",
        "    print(\"As you turn to leave, you hear a cracking sound coming from the corner.\")\n",
        "    print(\"A dark figure with glowing red eyes launches at you, knocking you unconcious\")\n",
        "    print(\"You wake up in your bed. It was all a dream.\")\n",
        "  else:\n",
        "    print(\"Invalid choice. Please enter yes or no.\")\n",
        "else:\n",
        "  print(\"Invalid choice. Please enter living room or dining room.\")\n"
      ]
    }
  ]
}