{
  "nbformat": 4,
  "nbformat_minor": 0,
  "metadata": {
    "colab": {
      "provenance": [],
      "authorship_tag": "ABX9TyNqQXWgRBrNnfztTlgN+f5g",
      "include_colab_link": true
    },
    "kernelspec": {
      "name": "python3",
      "display_name": "Python 3"
    },
    "language_info": {
      "name": "python"
    }
  },
  "cells": [
    {
      "cell_type": "markdown",
      "metadata": {
        "id": "view-in-github",
        "colab_type": "text"
      },
      "source": [
        "<a href=\"https://colab.research.google.com/github/dishu2611/Internship/blob/main/Weight_Conversion_(kg_to_pounds_and_vice_versa).ipynb\" target=\"_parent\"><img src=\"https://colab.research.google.com/assets/colab-badge.svg\" alt=\"Open In Colab\"/></a>"
      ]
    },
    {
      "cell_type": "code",
      "execution_count": 1,
      "metadata": {
        "id": "LXxX9um78yoc",
        "colab": {
          "base_uri": "https://localhost:8080/"
        },
        "outputId": "751ec303-fbf2-4271-b6ab-78e948a32848"
      },
      "outputs": [
        {
          "output_type": "stream",
          "name": "stdout",
          "text": [
            "Please select (k) for kg and (p) for pounds: k\n",
            "Enter your weight for conversion: 5\n",
            "Your weight in pounds is: 11.0231 pounds\n"
          ]
        }
      ],
      "source": [
        "user_sel = input(\"Please select (k) for kg and (p) for pounds: \").lower()\n",
        "if user_sel==\"p\" or user_sel==\"k\":\n",
        "\n",
        "    weight = float(input(\"Enter your weight for conversion: \"))\n",
        "\n",
        "    if user_sel==\"p\":# for pounds => kg\n",
        "        weight/=2.20462 # weight = weight/2.20462\n",
        "        print(f'Your weight in kilograms is {weight} kg')\n",
        "\n",
        "    if user_sel ==\"k\": # for kg => pounds\n",
        "        weight*=2.20462 # weight = weight*2.20462\n",
        "        print(\"Your weight in pounds is:\",weight,\"pounds\")\n",
        "\n",
        "else:\n",
        "    print(\"Invalid statement,please enter either p for pounds or k for kilograms\")"
      ]
    }
  ]
}